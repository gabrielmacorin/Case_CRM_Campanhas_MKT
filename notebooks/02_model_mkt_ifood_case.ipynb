{
 "cells": [
  {
   "cell_type": "markdown",
   "metadata": {},
   "source": [
    "# CRM - Análise de Campanha de Marketing"
   ]
  },
  {
   "cell_type": "markdown",
   "metadata": {},
   "source": [
    "Este notebook tem como objetivo, baseado na análise exploratória realizada no notebook 01_eda_mkt_ifood_case, segmentar os clientes e criar um modelo preditivo que maximize os resultados da próxima campanha de marketing."
   ]
  },
  {
   "cell_type": "markdown",
   "metadata": {},
   "source": [
    "## Bibliotecas"
   ]
  },
  {
   "cell_type": "code",
   "execution_count": 1,
   "metadata": {},
   "outputs": [],
   "source": [
    "import pandas as pd\n",
    "import numpy as np\n",
    "import math\n",
    "import pickle\n",
    "from sklearn.impute import SimpleImputer\n",
    "from sklearn.preprocessing import StandardScaler, MinMaxScaler\n",
    "from sklearn.cluster import KMeans\n",
    "from sklearn.metrics import silhouette_score\n",
    "from sklearn.model_selection import train_test_split\n",
    "from sklearn.model_selection import StratifiedKFold\n",
    "from sklearn.ensemble import RandomForestClassifier\n",
    "from sklearn.linear_model import LogisticRegression\n",
    "from sklearn.model_selection import cross_val_score\n",
    "from sklearn.metrics import classification_report, confusion_matrix, precision_recall_curve, accuracy_score, precision_score, recall_score, f1_score, roc_curve, auc\n",
    "from imblearn.over_sampling import RandomOverSampler\n",
    "from imblearn.pipeline import make_pipeline\n",
    "from sklearn.model_selection import GridSearchCV\n",
    "import matplotlib.pyplot as plt\n",
    "import seaborn as sns\n",
    "\n",
    "pd.set_option('display.max_columns', None)\n",
    "sns.set()"
   ]
  },
  {
   "cell_type": "code",
   "execution_count": 2,
   "metadata": {},
   "outputs": [],
   "source": [
    "# draw multiples plot from a specific seaborn function\n",
    "def multi_plot(df: pd.DataFrame, cols: list, func: sns, total_cols:int = 4, **kwargs):\n",
    "    total_rows = math.ceil(len(cols) / 4)\n",
    "    fig, axes = plt.subplots(total_rows, total_cols, figsize=(24,6))\n",
    "    \n",
    "    for i, col in enumerate(cols):\n",
    "        ax = axes.ravel()\n",
    "        func(ax=ax[i], data=df, x=col, **kwargs)\n",
    "\n",
    "    fig.tight_layout()\n",
    "\n",
    "# print multiples metric scores\n",
    "def get_scores(y: list, ypred: list):\n",
    "    print(\"Acurácia: \", \"%.6f\" % accuracy_score(y, ypred))\n",
    "    print(\"Precision: \", \"%.6f\" % precision_score(y, ypred))\n",
    "    print(\"Recall: \", \"%.6f\" % recall_score(y, ypred))\n",
    "    print(\"F1: \", \"%.6f\" % f1_score(y, ypred))"
   ]
  },
  {
   "cell_type": "code",
   "execution_count": 3,
   "metadata": {},
   "outputs": [],
   "source": [
    "def create_new_vars(df: pd.DataFrame) -> pd.DataFrame:\n",
    "    '''\n",
    "    Cria as variáveis:\n",
    "        TotalChild:  total de filhos na casa\n",
    "        Monetary: total gasto pelo cliente\n",
    "        MntPurchase: total de transações realizadas pelo cliente \n",
    "        MntAccepted: total de vezes que o cliente aceitou a uma campanha ade marketing anterior\n",
    "\n",
    "    Retorno:\n",
    "        Dataframe completo com as váriaveis adicionais\n",
    "    '''\n",
    "    df['Dt_Customer'] = pd.to_datetime(df['Dt_Customer'], format='%Y-%m-%d') \n",
    "    baseline_date = max(df['Dt_Customer'] + pd.to_timedelta(df['Recency'], unit='D'))\n",
    "\n",
    "    df['Age'] = baseline_date.year - df['Year_Birth']\n",
    "    df['DaysCustomer'] = (baseline_date - df['Dt_Customer']).dt.days\n",
    "    df['TotalChild'] = df['Kidhome'] + df['Teenhome']\n",
    "    df['Monetary'] = df[['MntWines', 'MntFruits', 'MntMeatProducts', \n",
    "                        'MntFishProducts', 'MntSweetProducts', 'MntGoldProds']].sum(axis=1)\n",
    "    df['MntPurchase'] = df[['NumCatalogPurchases', 'NumStorePurchases', 'NumWebVisitsMonth']].sum(axis=1)\n",
    "    df['MntAccepted'] = df[['AcceptedCmp1', 'AcceptedCmp2', 'AcceptedCmp3', 'AcceptedCmp4', 'AcceptedCmp5']].sum(axis=1)\n",
    "\n",
    "    return df\n",
    "\n",
    "def adjust_features(df: pd.DataFrame) -> pd.DataFrame:\n",
    "    '''\n",
    "    Ajusta as variáveis Education e Marital_Status para serem variáveis com representação numérica\n",
    "\n",
    "    Retorno:\n",
    "        Dataframe ajustado\n",
    "    '''\n",
    "    education_level = {\n",
    "        'Basic': 0,\n",
    "        'Graduation': 1,\n",
    "        '2n Cycle': 2,\n",
    "        'Master': 3,\n",
    "        'PhD': 4\n",
    "    }\n",
    "    df['Education'] = df['Education'].apply(lambda x: education_level[x])\n",
    "\n",
    "    # group Marital_Status into sigle or not: 0: Single, 1: With someone \n",
    "    df['Marital_Status'] = np.where(df['Marital_Status'].isin(['Together', 'Married']), 1, 0)\n",
    "\n",
    "    return df\n",
    "    \n",
    "def uplower(stat: pd.DataFrame) -> tuple:\n",
    "    '''\n",
    "    Identifica os ponto da cauda superior e inferior para tratamento de outliers\n",
    "\n",
    "    Parametros:\n",
    "        stat: resumo estatistico (describe) de uma coluna do dataframe\n",
    "\n",
    "    Retorno:\n",
    "        (ponto superior, ponto inferior)\n",
    "    '''\n",
    "    Q1 = stat['25%']\n",
    "    Q3 = stat['75%']\n",
    "    IQR = Q3 - Q1\n",
    "\n",
    "    upper = Q3 + 1.5 * IQR\n",
    "    lower = Q1 - 1.5 * IQR\n",
    "\n",
    "    return (upper, lower)"
   ]
  },
  {
   "cell_type": "markdown",
   "metadata": {},
   "source": [
    "## Arquivos"
   ]
  },
  {
   "cell_type": "code",
   "execution_count": 4,
   "metadata": {},
   "outputs": [],
   "source": [
    "mkt_campaing = pd.read_csv('ml_project1_data.csv')"
   ]
  },
  {
   "cell_type": "markdown",
   "metadata": {},
   "source": [
    "## Pré Processamento dos dados"
   ]
  },
  {
   "cell_type": "code",
   "execution_count": 5,
   "metadata": {},
   "outputs": [
    {
     "name": "stdout",
     "output_type": "stream",
     "text": [
      "<class 'pandas.core.frame.DataFrame'>\n",
      "RangeIndex: 2240 entries, 0 to 2239\n",
      "Data columns (total 29 columns):\n",
      " #   Column               Non-Null Count  Dtype  \n",
      "---  ------               --------------  -----  \n",
      " 0   ID                   2240 non-null   int64  \n",
      " 1   Year_Birth           2240 non-null   int64  \n",
      " 2   Education            2240 non-null   object \n",
      " 3   Marital_Status       2240 non-null   object \n",
      " 4   Income               2216 non-null   float64\n",
      " 5   Kidhome              2240 non-null   int64  \n",
      " 6   Teenhome             2240 non-null   int64  \n",
      " 7   Dt_Customer          2240 non-null   object \n",
      " 8   Recency              2240 non-null   int64  \n",
      " 9   MntWines             2240 non-null   int64  \n",
      " 10  MntFruits            2240 non-null   int64  \n",
      " 11  MntMeatProducts      2240 non-null   int64  \n",
      " 12  MntFishProducts      2240 non-null   int64  \n",
      " 13  MntSweetProducts     2240 non-null   int64  \n",
      " 14  MntGoldProds         2240 non-null   int64  \n",
      " 15  NumDealsPurchases    2240 non-null   int64  \n",
      " 16  NumWebPurchases      2240 non-null   int64  \n",
      " 17  NumCatalogPurchases  2240 non-null   int64  \n",
      " 18  NumStorePurchases    2240 non-null   int64  \n",
      " 19  NumWebVisitsMonth    2240 non-null   int64  \n",
      " 20  AcceptedCmp3         2240 non-null   int64  \n",
      " 21  AcceptedCmp4         2240 non-null   int64  \n",
      " 22  AcceptedCmp5         2240 non-null   int64  \n",
      " 23  AcceptedCmp1         2240 non-null   int64  \n",
      " 24  AcceptedCmp2         2240 non-null   int64  \n",
      " 25  Complain             2240 non-null   int64  \n",
      " 26  Z_CostContact        2240 non-null   int64  \n",
      " 27  Z_Revenue            2240 non-null   int64  \n",
      " 28  Response             2240 non-null   int64  \n",
      "dtypes: float64(1), int64(25), object(3)\n",
      "memory usage: 507.6+ KB\n"
     ]
    }
   ],
   "source": [
    "mkt_campaing.info()"
   ]
  },
  {
   "cell_type": "code",
   "execution_count": 6,
   "metadata": {},
   "outputs": [
    {
     "data": {
      "text/html": [
       "<div>\n",
       "<style scoped>\n",
       "    .dataframe tbody tr th:only-of-type {\n",
       "        vertical-align: middle;\n",
       "    }\n",
       "\n",
       "    .dataframe tbody tr th {\n",
       "        vertical-align: top;\n",
       "    }\n",
       "\n",
       "    .dataframe thead th {\n",
       "        text-align: right;\n",
       "    }\n",
       "</style>\n",
       "<table border=\"1\" class=\"dataframe\">\n",
       "  <thead>\n",
       "    <tr style=\"text-align: right;\">\n",
       "      <th></th>\n",
       "      <th>ID</th>\n",
       "      <th>Year_Birth</th>\n",
       "      <th>Education</th>\n",
       "      <th>Marital_Status</th>\n",
       "      <th>Income</th>\n",
       "      <th>Kidhome</th>\n",
       "      <th>Teenhome</th>\n",
       "      <th>Dt_Customer</th>\n",
       "      <th>Recency</th>\n",
       "      <th>MntWines</th>\n",
       "      <th>MntFruits</th>\n",
       "      <th>MntMeatProducts</th>\n",
       "      <th>MntFishProducts</th>\n",
       "      <th>MntSweetProducts</th>\n",
       "      <th>MntGoldProds</th>\n",
       "      <th>NumDealsPurchases</th>\n",
       "      <th>NumWebPurchases</th>\n",
       "      <th>NumCatalogPurchases</th>\n",
       "      <th>NumStorePurchases</th>\n",
       "      <th>NumWebVisitsMonth</th>\n",
       "      <th>AcceptedCmp3</th>\n",
       "      <th>AcceptedCmp4</th>\n",
       "      <th>AcceptedCmp5</th>\n",
       "      <th>AcceptedCmp1</th>\n",
       "      <th>AcceptedCmp2</th>\n",
       "      <th>Complain</th>\n",
       "      <th>Z_CostContact</th>\n",
       "      <th>Z_Revenue</th>\n",
       "      <th>Response</th>\n",
       "    </tr>\n",
       "  </thead>\n",
       "  <tbody>\n",
       "    <tr>\n",
       "      <th>0</th>\n",
       "      <td>5524</td>\n",
       "      <td>1957</td>\n",
       "      <td>Graduation</td>\n",
       "      <td>Single</td>\n",
       "      <td>58138.0</td>\n",
       "      <td>0</td>\n",
       "      <td>0</td>\n",
       "      <td>2012-09-04</td>\n",
       "      <td>58</td>\n",
       "      <td>635</td>\n",
       "      <td>88</td>\n",
       "      <td>546</td>\n",
       "      <td>172</td>\n",
       "      <td>88</td>\n",
       "      <td>88</td>\n",
       "      <td>3</td>\n",
       "      <td>8</td>\n",
       "      <td>10</td>\n",
       "      <td>4</td>\n",
       "      <td>7</td>\n",
       "      <td>0</td>\n",
       "      <td>0</td>\n",
       "      <td>0</td>\n",
       "      <td>0</td>\n",
       "      <td>0</td>\n",
       "      <td>0</td>\n",
       "      <td>3</td>\n",
       "      <td>11</td>\n",
       "      <td>1</td>\n",
       "    </tr>\n",
       "    <tr>\n",
       "      <th>1</th>\n",
       "      <td>2174</td>\n",
       "      <td>1954</td>\n",
       "      <td>Graduation</td>\n",
       "      <td>Single</td>\n",
       "      <td>46344.0</td>\n",
       "      <td>1</td>\n",
       "      <td>1</td>\n",
       "      <td>2014-03-08</td>\n",
       "      <td>38</td>\n",
       "      <td>11</td>\n",
       "      <td>1</td>\n",
       "      <td>6</td>\n",
       "      <td>2</td>\n",
       "      <td>1</td>\n",
       "      <td>6</td>\n",
       "      <td>2</td>\n",
       "      <td>1</td>\n",
       "      <td>1</td>\n",
       "      <td>2</td>\n",
       "      <td>5</td>\n",
       "      <td>0</td>\n",
       "      <td>0</td>\n",
       "      <td>0</td>\n",
       "      <td>0</td>\n",
       "      <td>0</td>\n",
       "      <td>0</td>\n",
       "      <td>3</td>\n",
       "      <td>11</td>\n",
       "      <td>0</td>\n",
       "    </tr>\n",
       "    <tr>\n",
       "      <th>2</th>\n",
       "      <td>4141</td>\n",
       "      <td>1965</td>\n",
       "      <td>Graduation</td>\n",
       "      <td>Together</td>\n",
       "      <td>71613.0</td>\n",
       "      <td>0</td>\n",
       "      <td>0</td>\n",
       "      <td>2013-08-21</td>\n",
       "      <td>26</td>\n",
       "      <td>426</td>\n",
       "      <td>49</td>\n",
       "      <td>127</td>\n",
       "      <td>111</td>\n",
       "      <td>21</td>\n",
       "      <td>42</td>\n",
       "      <td>1</td>\n",
       "      <td>8</td>\n",
       "      <td>2</td>\n",
       "      <td>10</td>\n",
       "      <td>4</td>\n",
       "      <td>0</td>\n",
       "      <td>0</td>\n",
       "      <td>0</td>\n",
       "      <td>0</td>\n",
       "      <td>0</td>\n",
       "      <td>0</td>\n",
       "      <td>3</td>\n",
       "      <td>11</td>\n",
       "      <td>0</td>\n",
       "    </tr>\n",
       "    <tr>\n",
       "      <th>3</th>\n",
       "      <td>6182</td>\n",
       "      <td>1984</td>\n",
       "      <td>Graduation</td>\n",
       "      <td>Together</td>\n",
       "      <td>26646.0</td>\n",
       "      <td>1</td>\n",
       "      <td>0</td>\n",
       "      <td>2014-02-10</td>\n",
       "      <td>26</td>\n",
       "      <td>11</td>\n",
       "      <td>4</td>\n",
       "      <td>20</td>\n",
       "      <td>10</td>\n",
       "      <td>3</td>\n",
       "      <td>5</td>\n",
       "      <td>2</td>\n",
       "      <td>2</td>\n",
       "      <td>0</td>\n",
       "      <td>4</td>\n",
       "      <td>6</td>\n",
       "      <td>0</td>\n",
       "      <td>0</td>\n",
       "      <td>0</td>\n",
       "      <td>0</td>\n",
       "      <td>0</td>\n",
       "      <td>0</td>\n",
       "      <td>3</td>\n",
       "      <td>11</td>\n",
       "      <td>0</td>\n",
       "    </tr>\n",
       "    <tr>\n",
       "      <th>4</th>\n",
       "      <td>5324</td>\n",
       "      <td>1981</td>\n",
       "      <td>PhD</td>\n",
       "      <td>Married</td>\n",
       "      <td>58293.0</td>\n",
       "      <td>1</td>\n",
       "      <td>0</td>\n",
       "      <td>2014-01-19</td>\n",
       "      <td>94</td>\n",
       "      <td>173</td>\n",
       "      <td>43</td>\n",
       "      <td>118</td>\n",
       "      <td>46</td>\n",
       "      <td>27</td>\n",
       "      <td>15</td>\n",
       "      <td>5</td>\n",
       "      <td>5</td>\n",
       "      <td>3</td>\n",
       "      <td>6</td>\n",
       "      <td>5</td>\n",
       "      <td>0</td>\n",
       "      <td>0</td>\n",
       "      <td>0</td>\n",
       "      <td>0</td>\n",
       "      <td>0</td>\n",
       "      <td>0</td>\n",
       "      <td>3</td>\n",
       "      <td>11</td>\n",
       "      <td>0</td>\n",
       "    </tr>\n",
       "  </tbody>\n",
       "</table>\n",
       "</div>"
      ],
      "text/plain": [
       "     ID  Year_Birth   Education Marital_Status   Income  Kidhome  Teenhome  \\\n",
       "0  5524        1957  Graduation         Single  58138.0        0         0   \n",
       "1  2174        1954  Graduation         Single  46344.0        1         1   \n",
       "2  4141        1965  Graduation       Together  71613.0        0         0   \n",
       "3  6182        1984  Graduation       Together  26646.0        1         0   \n",
       "4  5324        1981         PhD        Married  58293.0        1         0   \n",
       "\n",
       "  Dt_Customer  Recency  MntWines  MntFruits  MntMeatProducts  MntFishProducts  \\\n",
       "0  2012-09-04       58       635         88              546              172   \n",
       "1  2014-03-08       38        11          1                6                2   \n",
       "2  2013-08-21       26       426         49              127              111   \n",
       "3  2014-02-10       26        11          4               20               10   \n",
       "4  2014-01-19       94       173         43              118               46   \n",
       "\n",
       "   MntSweetProducts  MntGoldProds  NumDealsPurchases  NumWebPurchases  \\\n",
       "0                88            88                  3                8   \n",
       "1                 1             6                  2                1   \n",
       "2                21            42                  1                8   \n",
       "3                 3             5                  2                2   \n",
       "4                27            15                  5                5   \n",
       "\n",
       "   NumCatalogPurchases  NumStorePurchases  NumWebVisitsMonth  AcceptedCmp3  \\\n",
       "0                   10                  4                  7             0   \n",
       "1                    1                  2                  5             0   \n",
       "2                    2                 10                  4             0   \n",
       "3                    0                  4                  6             0   \n",
       "4                    3                  6                  5             0   \n",
       "\n",
       "   AcceptedCmp4  AcceptedCmp5  AcceptedCmp1  AcceptedCmp2  Complain  \\\n",
       "0             0             0             0             0         0   \n",
       "1             0             0             0             0         0   \n",
       "2             0             0             0             0         0   \n",
       "3             0             0             0             0         0   \n",
       "4             0             0             0             0         0   \n",
       "\n",
       "   Z_CostContact  Z_Revenue  Response  \n",
       "0              3         11         1  \n",
       "1              3         11         0  \n",
       "2              3         11         0  \n",
       "3              3         11         0  \n",
       "4              3         11         0  "
      ]
     },
     "execution_count": 6,
     "metadata": {},
     "output_type": "execute_result"
    }
   ],
   "source": [
    "mkt_campaing.head()"
   ]
  },
  {
   "cell_type": "code",
   "execution_count": 7,
   "metadata": {},
   "outputs": [],
   "source": [
    "mkt_campaing = create_new_vars(mkt_campaing)\n",
    "mkt_campaing = adjust_features(mkt_campaing)"
   ]
  },
  {
   "cell_type": "code",
   "execution_count": 8,
   "metadata": {},
   "outputs": [
    {
     "data": {
      "text/html": [
       "<div>\n",
       "<style scoped>\n",
       "    .dataframe tbody tr th:only-of-type {\n",
       "        vertical-align: middle;\n",
       "    }\n",
       "\n",
       "    .dataframe tbody tr th {\n",
       "        vertical-align: top;\n",
       "    }\n",
       "\n",
       "    .dataframe thead th {\n",
       "        text-align: right;\n",
       "    }\n",
       "</style>\n",
       "<table border=\"1\" class=\"dataframe\">\n",
       "  <thead>\n",
       "    <tr style=\"text-align: right;\">\n",
       "      <th></th>\n",
       "      <th>ID</th>\n",
       "      <th>Year_Birth</th>\n",
       "      <th>Education</th>\n",
       "      <th>Marital_Status</th>\n",
       "      <th>Income</th>\n",
       "      <th>Kidhome</th>\n",
       "      <th>Teenhome</th>\n",
       "      <th>Dt_Customer</th>\n",
       "      <th>Recency</th>\n",
       "      <th>MntWines</th>\n",
       "      <th>MntFruits</th>\n",
       "      <th>MntMeatProducts</th>\n",
       "      <th>MntFishProducts</th>\n",
       "      <th>MntSweetProducts</th>\n",
       "      <th>MntGoldProds</th>\n",
       "      <th>NumDealsPurchases</th>\n",
       "      <th>NumWebPurchases</th>\n",
       "      <th>NumCatalogPurchases</th>\n",
       "      <th>NumStorePurchases</th>\n",
       "      <th>NumWebVisitsMonth</th>\n",
       "      <th>AcceptedCmp3</th>\n",
       "      <th>AcceptedCmp4</th>\n",
       "      <th>AcceptedCmp5</th>\n",
       "      <th>AcceptedCmp1</th>\n",
       "      <th>AcceptedCmp2</th>\n",
       "      <th>Complain</th>\n",
       "      <th>Z_CostContact</th>\n",
       "      <th>Z_Revenue</th>\n",
       "      <th>Response</th>\n",
       "      <th>Age</th>\n",
       "      <th>DaysCustomer</th>\n",
       "      <th>TotalChild</th>\n",
       "      <th>Monetary</th>\n",
       "      <th>MntPurchase</th>\n",
       "      <th>MntAccepted</th>\n",
       "    </tr>\n",
       "  </thead>\n",
       "  <tbody>\n",
       "    <tr>\n",
       "      <th>0</th>\n",
       "      <td>5524</td>\n",
       "      <td>1957</td>\n",
       "      <td>1</td>\n",
       "      <td>0</td>\n",
       "      <td>58138.0</td>\n",
       "      <td>0</td>\n",
       "      <td>0</td>\n",
       "      <td>2012-09-04</td>\n",
       "      <td>58</td>\n",
       "      <td>635</td>\n",
       "      <td>88</td>\n",
       "      <td>546</td>\n",
       "      <td>172</td>\n",
       "      <td>88</td>\n",
       "      <td>88</td>\n",
       "      <td>3</td>\n",
       "      <td>8</td>\n",
       "      <td>10</td>\n",
       "      <td>4</td>\n",
       "      <td>7</td>\n",
       "      <td>0</td>\n",
       "      <td>0</td>\n",
       "      <td>0</td>\n",
       "      <td>0</td>\n",
       "      <td>0</td>\n",
       "      <td>0</td>\n",
       "      <td>3</td>\n",
       "      <td>11</td>\n",
       "      <td>1</td>\n",
       "      <td>57</td>\n",
       "      <td>760</td>\n",
       "      <td>0</td>\n",
       "      <td>1617</td>\n",
       "      <td>21</td>\n",
       "      <td>0</td>\n",
       "    </tr>\n",
       "    <tr>\n",
       "      <th>1</th>\n",
       "      <td>2174</td>\n",
       "      <td>1954</td>\n",
       "      <td>1</td>\n",
       "      <td>0</td>\n",
       "      <td>46344.0</td>\n",
       "      <td>1</td>\n",
       "      <td>1</td>\n",
       "      <td>2014-03-08</td>\n",
       "      <td>38</td>\n",
       "      <td>11</td>\n",
       "      <td>1</td>\n",
       "      <td>6</td>\n",
       "      <td>2</td>\n",
       "      <td>1</td>\n",
       "      <td>6</td>\n",
       "      <td>2</td>\n",
       "      <td>1</td>\n",
       "      <td>1</td>\n",
       "      <td>2</td>\n",
       "      <td>5</td>\n",
       "      <td>0</td>\n",
       "      <td>0</td>\n",
       "      <td>0</td>\n",
       "      <td>0</td>\n",
       "      <td>0</td>\n",
       "      <td>0</td>\n",
       "      <td>3</td>\n",
       "      <td>11</td>\n",
       "      <td>0</td>\n",
       "      <td>60</td>\n",
       "      <td>210</td>\n",
       "      <td>2</td>\n",
       "      <td>27</td>\n",
       "      <td>8</td>\n",
       "      <td>0</td>\n",
       "    </tr>\n",
       "    <tr>\n",
       "      <th>2</th>\n",
       "      <td>4141</td>\n",
       "      <td>1965</td>\n",
       "      <td>1</td>\n",
       "      <td>1</td>\n",
       "      <td>71613.0</td>\n",
       "      <td>0</td>\n",
       "      <td>0</td>\n",
       "      <td>2013-08-21</td>\n",
       "      <td>26</td>\n",
       "      <td>426</td>\n",
       "      <td>49</td>\n",
       "      <td>127</td>\n",
       "      <td>111</td>\n",
       "      <td>21</td>\n",
       "      <td>42</td>\n",
       "      <td>1</td>\n",
       "      <td>8</td>\n",
       "      <td>2</td>\n",
       "      <td>10</td>\n",
       "      <td>4</td>\n",
       "      <td>0</td>\n",
       "      <td>0</td>\n",
       "      <td>0</td>\n",
       "      <td>0</td>\n",
       "      <td>0</td>\n",
       "      <td>0</td>\n",
       "      <td>3</td>\n",
       "      <td>11</td>\n",
       "      <td>0</td>\n",
       "      <td>49</td>\n",
       "      <td>409</td>\n",
       "      <td>0</td>\n",
       "      <td>776</td>\n",
       "      <td>16</td>\n",
       "      <td>0</td>\n",
       "    </tr>\n",
       "    <tr>\n",
       "      <th>3</th>\n",
       "      <td>6182</td>\n",
       "      <td>1984</td>\n",
       "      <td>1</td>\n",
       "      <td>1</td>\n",
       "      <td>26646.0</td>\n",
       "      <td>1</td>\n",
       "      <td>0</td>\n",
       "      <td>2014-02-10</td>\n",
       "      <td>26</td>\n",
       "      <td>11</td>\n",
       "      <td>4</td>\n",
       "      <td>20</td>\n",
       "      <td>10</td>\n",
       "      <td>3</td>\n",
       "      <td>5</td>\n",
       "      <td>2</td>\n",
       "      <td>2</td>\n",
       "      <td>0</td>\n",
       "      <td>4</td>\n",
       "      <td>6</td>\n",
       "      <td>0</td>\n",
       "      <td>0</td>\n",
       "      <td>0</td>\n",
       "      <td>0</td>\n",
       "      <td>0</td>\n",
       "      <td>0</td>\n",
       "      <td>3</td>\n",
       "      <td>11</td>\n",
       "      <td>0</td>\n",
       "      <td>30</td>\n",
       "      <td>236</td>\n",
       "      <td>1</td>\n",
       "      <td>53</td>\n",
       "      <td>10</td>\n",
       "      <td>0</td>\n",
       "    </tr>\n",
       "    <tr>\n",
       "      <th>4</th>\n",
       "      <td>5324</td>\n",
       "      <td>1981</td>\n",
       "      <td>4</td>\n",
       "      <td>1</td>\n",
       "      <td>58293.0</td>\n",
       "      <td>1</td>\n",
       "      <td>0</td>\n",
       "      <td>2014-01-19</td>\n",
       "      <td>94</td>\n",
       "      <td>173</td>\n",
       "      <td>43</td>\n",
       "      <td>118</td>\n",
       "      <td>46</td>\n",
       "      <td>27</td>\n",
       "      <td>15</td>\n",
       "      <td>5</td>\n",
       "      <td>5</td>\n",
       "      <td>3</td>\n",
       "      <td>6</td>\n",
       "      <td>5</td>\n",
       "      <td>0</td>\n",
       "      <td>0</td>\n",
       "      <td>0</td>\n",
       "      <td>0</td>\n",
       "      <td>0</td>\n",
       "      <td>0</td>\n",
       "      <td>3</td>\n",
       "      <td>11</td>\n",
       "      <td>0</td>\n",
       "      <td>33</td>\n",
       "      <td>258</td>\n",
       "      <td>1</td>\n",
       "      <td>422</td>\n",
       "      <td>14</td>\n",
       "      <td>0</td>\n",
       "    </tr>\n",
       "  </tbody>\n",
       "</table>\n",
       "</div>"
      ],
      "text/plain": [
       "     ID  Year_Birth  Education  Marital_Status   Income  Kidhome  Teenhome  \\\n",
       "0  5524        1957          1               0  58138.0        0         0   \n",
       "1  2174        1954          1               0  46344.0        1         1   \n",
       "2  4141        1965          1               1  71613.0        0         0   \n",
       "3  6182        1984          1               1  26646.0        1         0   \n",
       "4  5324        1981          4               1  58293.0        1         0   \n",
       "\n",
       "  Dt_Customer  Recency  MntWines  MntFruits  MntMeatProducts  MntFishProducts  \\\n",
       "0  2012-09-04       58       635         88              546              172   \n",
       "1  2014-03-08       38        11          1                6                2   \n",
       "2  2013-08-21       26       426         49              127              111   \n",
       "3  2014-02-10       26        11          4               20               10   \n",
       "4  2014-01-19       94       173         43              118               46   \n",
       "\n",
       "   MntSweetProducts  MntGoldProds  NumDealsPurchases  NumWebPurchases  \\\n",
       "0                88            88                  3                8   \n",
       "1                 1             6                  2                1   \n",
       "2                21            42                  1                8   \n",
       "3                 3             5                  2                2   \n",
       "4                27            15                  5                5   \n",
       "\n",
       "   NumCatalogPurchases  NumStorePurchases  NumWebVisitsMonth  AcceptedCmp3  \\\n",
       "0                   10                  4                  7             0   \n",
       "1                    1                  2                  5             0   \n",
       "2                    2                 10                  4             0   \n",
       "3                    0                  4                  6             0   \n",
       "4                    3                  6                  5             0   \n",
       "\n",
       "   AcceptedCmp4  AcceptedCmp5  AcceptedCmp1  AcceptedCmp2  Complain  \\\n",
       "0             0             0             0             0         0   \n",
       "1             0             0             0             0         0   \n",
       "2             0             0             0             0         0   \n",
       "3             0             0             0             0         0   \n",
       "4             0             0             0             0         0   \n",
       "\n",
       "   Z_CostContact  Z_Revenue  Response  Age  DaysCustomer  TotalChild  \\\n",
       "0              3         11         1   57           760           0   \n",
       "1              3         11         0   60           210           2   \n",
       "2              3         11         0   49           409           0   \n",
       "3              3         11         0   30           236           1   \n",
       "4              3         11         0   33           258           1   \n",
       "\n",
       "   Monetary  MntPurchase  MntAccepted  \n",
       "0      1617           21            0  \n",
       "1        27            8            0  \n",
       "2       776           16            0  \n",
       "3        53           10            0  \n",
       "4       422           14            0  "
      ]
     },
     "execution_count": 8,
     "metadata": {},
     "output_type": "execute_result"
    }
   ],
   "source": [
    "mkt_campaing.head()"
   ]
  },
  {
   "cell_type": "markdown",
   "metadata": {},
   "source": [
    "#### Tratamento de nulos e outliers"
   ]
  },
  {
   "cell_type": "code",
   "execution_count": 9,
   "metadata": {},
   "outputs": [
    {
     "name": "stdout",
     "output_type": "stream",
     "text": [
      "Income: upper = 118350.5 e lower = -14525.5\n",
      "Monetary: upper = 2510.625 e lower = -1396.375\n",
      "MntPurchase: upper = 27.5 e lower = -0.5\n",
      "NumWebPurchases: upper = 12.0 e lower = -4.0\n",
      "NumCatalogPurchases: upper = 10.0 e lower = -6.0\n",
      "NumStorePurchases: upper = 15.5 e lower = -4.5\n"
     ]
    }
   ],
   "source": [
    "cols = ['Income', 'Monetary', 'MntPurchase', 'NumWebPurchases', 'NumCatalogPurchases', 'NumStorePurchases']\n",
    "for col in cols:\n",
    "    upper, lower = uplower(mkt_campaing[col].describe())\n",
    "    print(f'{col}: upper = {upper} e lower = {lower}')\n",
    "\n",
    "    mkt_campaing.loc[((mkt_campaing[col] > upper) | (mkt_campaing[col] < lower)), col] = np.nan"
   ]
  },
  {
   "cell_type": "code",
   "execution_count": 10,
   "metadata": {},
   "outputs": [
    {
     "data": {
      "text/plain": [
       "ID                      0\n",
       "Year_Birth              0\n",
       "Education               0\n",
       "Marital_Status          0\n",
       "Income                 32\n",
       "Kidhome                 0\n",
       "Teenhome                0\n",
       "Dt_Customer             0\n",
       "Recency                 0\n",
       "MntWines                0\n",
       "MntFruits               0\n",
       "MntMeatProducts         0\n",
       "MntFishProducts         0\n",
       "MntSweetProducts        0\n",
       "MntGoldProds            0\n",
       "NumDealsPurchases       0\n",
       "NumWebPurchases         4\n",
       "NumCatalogPurchases    23\n",
       "NumStorePurchases       0\n",
       "NumWebVisitsMonth       0\n",
       "AcceptedCmp3            0\n",
       "AcceptedCmp4            0\n",
       "AcceptedCmp5            0\n",
       "AcceptedCmp1            0\n",
       "AcceptedCmp2            0\n",
       "Complain                0\n",
       "Z_CostContact           0\n",
       "Z_Revenue               0\n",
       "Response                0\n",
       "Age                     0\n",
       "DaysCustomer            0\n",
       "TotalChild              0\n",
       "Monetary                3\n",
       "MntPurchase             6\n",
       "MntAccepted             0\n",
       "dtype: int64"
      ]
     },
     "execution_count": 10,
     "metadata": {},
     "output_type": "execute_result"
    }
   ],
   "source": [
    "mkt_campaing.isnull().sum()"
   ]
  },
  {
   "cell_type": "code",
   "execution_count": 11,
   "metadata": {},
   "outputs": [],
   "source": [
    "# como são poucos registros vamos realizar uma imputação básica pela mediana\n",
    "mean_imputer = SimpleImputer(strategy='median')\n",
    "for col in cols:\n",
    "    mkt_campaing[col] = mean_imputer.fit_transform(mkt_campaing[col].values.reshape(-1,1))"
   ]
  },
  {
   "cell_type": "markdown",
   "metadata": {},
   "source": [
    "## Clusterização"
   ]
  },
  {
   "cell_type": "code",
   "execution_count": 12,
   "metadata": {},
   "outputs": [],
   "source": [
    "keep_cols = ['ID', 'Income', 'Monetary', 'MntPurchase', 'NumWebPurchases',\n",
    "             'NumCatalogPurchases', 'NumStorePurchases', 'NumDealsPurchases',\n",
    "             'TotalChild', 'MntAccepted', 'Response']\n",
    "\n",
    "df = mkt_campaing[keep_cols]"
   ]
  },
  {
   "cell_type": "code",
   "execution_count": 13,
   "metadata": {},
   "outputs": [
    {
     "data": {
      "text/html": [
       "<div>\n",
       "<style scoped>\n",
       "    .dataframe tbody tr th:only-of-type {\n",
       "        vertical-align: middle;\n",
       "    }\n",
       "\n",
       "    .dataframe tbody tr th {\n",
       "        vertical-align: top;\n",
       "    }\n",
       "\n",
       "    .dataframe thead th {\n",
       "        text-align: right;\n",
       "    }\n",
       "</style>\n",
       "<table border=\"1\" class=\"dataframe\">\n",
       "  <thead>\n",
       "    <tr style=\"text-align: right;\">\n",
       "      <th></th>\n",
       "      <th>ID</th>\n",
       "      <th>Income</th>\n",
       "      <th>Monetary</th>\n",
       "      <th>MntPurchase</th>\n",
       "      <th>NumWebPurchases</th>\n",
       "      <th>NumCatalogPurchases</th>\n",
       "      <th>NumStorePurchases</th>\n",
       "      <th>NumDealsPurchases</th>\n",
       "      <th>TotalChild</th>\n",
       "      <th>MntAccepted</th>\n",
       "      <th>Response</th>\n",
       "    </tr>\n",
       "  </thead>\n",
       "  <tbody>\n",
       "    <tr>\n",
       "      <th>0</th>\n",
       "      <td>5524</td>\n",
       "      <td>58138.0</td>\n",
       "      <td>1617.0</td>\n",
       "      <td>21.0</td>\n",
       "      <td>8.0</td>\n",
       "      <td>10.0</td>\n",
       "      <td>4.0</td>\n",
       "      <td>3</td>\n",
       "      <td>0</td>\n",
       "      <td>0</td>\n",
       "      <td>1</td>\n",
       "    </tr>\n",
       "    <tr>\n",
       "      <th>1</th>\n",
       "      <td>2174</td>\n",
       "      <td>46344.0</td>\n",
       "      <td>27.0</td>\n",
       "      <td>8.0</td>\n",
       "      <td>1.0</td>\n",
       "      <td>1.0</td>\n",
       "      <td>2.0</td>\n",
       "      <td>2</td>\n",
       "      <td>2</td>\n",
       "      <td>0</td>\n",
       "      <td>0</td>\n",
       "    </tr>\n",
       "    <tr>\n",
       "      <th>2</th>\n",
       "      <td>4141</td>\n",
       "      <td>71613.0</td>\n",
       "      <td>776.0</td>\n",
       "      <td>16.0</td>\n",
       "      <td>8.0</td>\n",
       "      <td>2.0</td>\n",
       "      <td>10.0</td>\n",
       "      <td>1</td>\n",
       "      <td>0</td>\n",
       "      <td>0</td>\n",
       "      <td>0</td>\n",
       "    </tr>\n",
       "    <tr>\n",
       "      <th>3</th>\n",
       "      <td>6182</td>\n",
       "      <td>26646.0</td>\n",
       "      <td>53.0</td>\n",
       "      <td>10.0</td>\n",
       "      <td>2.0</td>\n",
       "      <td>0.0</td>\n",
       "      <td>4.0</td>\n",
       "      <td>2</td>\n",
       "      <td>1</td>\n",
       "      <td>0</td>\n",
       "      <td>0</td>\n",
       "    </tr>\n",
       "    <tr>\n",
       "      <th>4</th>\n",
       "      <td>5324</td>\n",
       "      <td>58293.0</td>\n",
       "      <td>422.0</td>\n",
       "      <td>14.0</td>\n",
       "      <td>5.0</td>\n",
       "      <td>3.0</td>\n",
       "      <td>6.0</td>\n",
       "      <td>5</td>\n",
       "      <td>1</td>\n",
       "      <td>0</td>\n",
       "      <td>0</td>\n",
       "    </tr>\n",
       "  </tbody>\n",
       "</table>\n",
       "</div>"
      ],
      "text/plain": [
       "     ID   Income  Monetary  MntPurchase  NumWebPurchases  NumCatalogPurchases  \\\n",
       "0  5524  58138.0    1617.0         21.0              8.0                 10.0   \n",
       "1  2174  46344.0      27.0          8.0              1.0                  1.0   \n",
       "2  4141  71613.0     776.0         16.0              8.0                  2.0   \n",
       "3  6182  26646.0      53.0         10.0              2.0                  0.0   \n",
       "4  5324  58293.0     422.0         14.0              5.0                  3.0   \n",
       "\n",
       "   NumStorePurchases  NumDealsPurchases  TotalChild  MntAccepted  Response  \n",
       "0                4.0                  3           0            0         1  \n",
       "1                2.0                  2           2            0         0  \n",
       "2               10.0                  1           0            0         0  \n",
       "3                4.0                  2           1            0         0  \n",
       "4                6.0                  5           1            0         0  "
      ]
     },
     "execution_count": 13,
     "metadata": {},
     "output_type": "execute_result"
    }
   ],
   "source": [
    "df.head()"
   ]
  },
  {
   "cell_type": "markdown",
   "metadata": {},
   "source": [
    "#### Normalização"
   ]
  },
  {
   "cell_type": "code",
   "execution_count": 14,
   "metadata": {},
   "outputs": [],
   "source": [
    "scaler = StandardScaler()\n",
    "df_scaler = scaler.fit_transform(df.drop(columns=['Response', 'ID']))"
   ]
  },
  {
   "cell_type": "markdown",
   "metadata": {},
   "source": [
    "#### Selecionando K"
   ]
  },
  {
   "cell_type": "code",
   "execution_count": 15,
   "metadata": {},
   "outputs": [
    {
     "name": "stderr",
     "output_type": "stream",
     "text": [
      "c:\\Users\\gabri\\anaconda3\\lib\\site-packages\\sklearn\\cluster\\_kmeans.py:1036: UserWarning: KMeans is known to have a memory leak on Windows with MKL, when there are less chunks than available threads. You can avoid it by setting the environment variable OMP_NUM_THREADS=9.\n",
      "  warnings.warn(\n"
     ]
    },
    {
     "data": {
      "image/png": "[encoded data removed]",
      "text/plain": [
       "<Figure size 576x252 with 1 Axes>"
      ]
     },
     "metadata": {},
     "output_type": "display_data"
    }
   ],
   "source": [
    "# inertia\n",
    "kmeans_per_k = [KMeans(n_clusters=k, init='k-means++', max_iter=500, random_state=42).fit(df_scaler)\n",
    "                for k in range(1, 10)]\n",
    "inertias = [model.inertia_ for model in kmeans_per_k]\n",
    "\n",
    "plt.figure(figsize=(8, 3.5))\n",
    "plt.plot(range(1, 10), inertias, \"bo-\")\n",
    "plt.xlabel(\"$k$\", fontsize=14)\n",
    "plt.ylabel(\"Inertia\", fontsize=14)\n",
    "plt.show()"
   ]
  },
  {
   "cell_type": "code",
   "execution_count": 16,
   "metadata": {},
   "outputs": [
    {
     "data": {
      "image/png": "[encoded data removed]",
      "text/plain": [
       "<Figure size 576x216 with 1 Axes>"
      ]
     },
     "metadata": {},
     "output_type": "display_data"
    }
   ],
   "source": [
    "# silhouette\n",
    "silhouette_scores = [silhouette_score(df_scaler, model.labels_)\n",
    "                     for model in kmeans_per_k[1:]]\n",
    "\n",
    "plt.figure(figsize=(8, 3))\n",
    "plt.plot(range(2, 10), silhouette_scores, \"bo-\")\n",
    "plt.xlabel(\"$k$\", fontsize=14)\n",
    "plt.ylabel(\"Silhouette score\", fontsize=14)\n",
    "plt.title('Número de Clusters')\n",
    "plt.show()"
   ]
  },
  {
   "cell_type": "markdown",
   "metadata": {},
   "source": [
    "Como de 2 para 3 cluster não muda muito no método da silhouette, vamos selecionar 3 clusters."
   ]
  },
  {
   "cell_type": "markdown",
   "metadata": {},
   "source": [
    "#### KMeans"
   ]
  },
  {
   "cell_type": "code",
   "execution_count": 17,
   "metadata": {},
   "outputs": [],
   "source": [
    "kmeans = KMeans(n_clusters=3, init='k-means++', max_iter=500, random_state=42)\n",
    "clusters = kmeans.fit_predict(df_scaler)"
   ]
  },
  {
   "cell_type": "code",
   "execution_count": 18,
   "metadata": {},
   "outputs": [],
   "source": [
    "df_cl = df.copy()\n",
    "df_cl['clusters'] = clusters"
   ]
  },
  {
   "cell_type": "markdown",
   "metadata": {},
   "source": [
    "#### Análise dos clusters"
   ]
  },
  {
   "cell_type": "code",
   "execution_count": 19,
   "metadata": {},
   "outputs": [
    {
     "data": {
      "text/plain": [
       "0    1029\n",
       "1     614\n",
       "2     597\n",
       "Name: clusters, dtype: int64"
      ]
     },
     "execution_count": 19,
     "metadata": {},
     "output_type": "execute_result"
    }
   ],
   "source": [
    "df_cl['clusters'].value_counts()"
   ]
  },
  {
   "cell_type": "code",
   "execution_count": 20,
   "metadata": {},
   "outputs": [
    {
     "data": {
      "image/png": "[encoded data removed]",
      "text/plain": [
       "<Figure size 1728x432 with 8 Axes>"
      ]
     },
     "metadata": {},
     "output_type": "display_data"
    }
   ],
   "source": [
    "cols = ['ID', 'Response', 'clusters', 'MntAccepted']\n",
    "cols = df_cl.drop(columns=cols).columns\n",
    "\n",
    "df_cl['clusters'] = df_cl['clusters'].astype(str)\n",
    "\n",
    "multi_plot(df_cl, cols, sns.boxplot, total_cols=4, y='clusters')"
   ]
  },
  {
   "cell_type": "code",
   "execution_count": 21,
   "metadata": {},
   "outputs": [
    {
     "data": {
      "text/plain": [
       "<AxesSubplot:xlabel='clusters', ylabel='count'>"
      ]
     },
     "execution_count": 21,
     "metadata": {},
     "output_type": "execute_result"
    },
    {
     "data": {
      "image/png": "[encoded data removed]",
      "text/plain": [
       "<Figure size 432x288 with 1 Axes>"
      ]
     },
     "metadata": {},
     "output_type": "display_data"
    }
   ],
   "source": [
    "sns.countplot(data=df_cl, x='clusters',hue='MntAccepted')"
   ]
  },
  {
   "cell_type": "code",
   "execution_count": 22,
   "metadata": {},
   "outputs": [
    {
     "data": {
      "text/html": [
       "<div>\n",
       "<style scoped>\n",
       "    .dataframe tbody tr th:only-of-type {\n",
       "        vertical-align: middle;\n",
       "    }\n",
       "\n",
       "    .dataframe tbody tr th {\n",
       "        vertical-align: top;\n",
       "    }\n",
       "\n",
       "    .dataframe thead th {\n",
       "        text-align: right;\n",
       "    }\n",
       "</style>\n",
       "<table border=\"1\" class=\"dataframe\">\n",
       "  <thead>\n",
       "    <tr style=\"text-align: right;\">\n",
       "      <th></th>\n",
       "      <th>ID</th>\n",
       "      <th>Income</th>\n",
       "      <th>Monetary</th>\n",
       "      <th>MntPurchase</th>\n",
       "      <th>NumWebPurchases</th>\n",
       "      <th>NumCatalogPurchases</th>\n",
       "      <th>NumStorePurchases</th>\n",
       "      <th>NumDealsPurchases</th>\n",
       "      <th>TotalChild</th>\n",
       "      <th>MntAccepted</th>\n",
       "      <th>Response</th>\n",
       "    </tr>\n",
       "    <tr>\n",
       "      <th>clusters</th>\n",
       "      <th></th>\n",
       "      <th></th>\n",
       "      <th></th>\n",
       "      <th></th>\n",
       "      <th></th>\n",
       "      <th></th>\n",
       "      <th></th>\n",
       "      <th></th>\n",
       "      <th></th>\n",
       "      <th></th>\n",
       "      <th></th>\n",
       "    </tr>\n",
       "  </thead>\n",
       "  <tbody>\n",
       "    <tr>\n",
       "      <th>0</th>\n",
       "      <td>5612.252672</td>\n",
       "      <td>35006.298348</td>\n",
       "      <td>100.508260</td>\n",
       "      <td>10.021380</td>\n",
       "      <td>2.024295</td>\n",
       "      <td>0.551020</td>\n",
       "      <td>3.205053</td>\n",
       "      <td>1.858115</td>\n",
       "      <td>1.200194</td>\n",
       "      <td>0.083576</td>\n",
       "      <td>0.084548</td>\n",
       "    </tr>\n",
       "    <tr>\n",
       "      <th>1</th>\n",
       "      <td>5597.257329</td>\n",
       "      <td>75091.688925</td>\n",
       "      <td>1365.633550</td>\n",
       "      <td>17.532573</td>\n",
       "      <td>5.249186</td>\n",
       "      <td>5.710098</td>\n",
       "      <td>8.535831</td>\n",
       "      <td>1.245928</td>\n",
       "      <td>0.239414</td>\n",
       "      <td>0.778502</td>\n",
       "      <td>0.281759</td>\n",
       "    </tr>\n",
       "    <tr>\n",
       "      <th>2</th>\n",
       "      <td>5552.284757</td>\n",
       "      <td>56148.956449</td>\n",
       "      <td>684.556114</td>\n",
       "      <td>16.199330</td>\n",
       "      <td>6.294807</td>\n",
       "      <td>2.715243</td>\n",
       "      <td>7.422111</td>\n",
       "      <td>4.239531</td>\n",
       "      <td>1.251256</td>\n",
       "      <td>0.172529</td>\n",
       "      <td>0.123953</td>\n",
       "    </tr>\n",
       "  </tbody>\n",
       "</table>\n",
       "</div>"
      ],
      "text/plain": [
       "                   ID        Income     Monetary  MntPurchase  \\\n",
       "clusters                                                        \n",
       "0         5612.252672  35006.298348   100.508260    10.021380   \n",
       "1         5597.257329  75091.688925  1365.633550    17.532573   \n",
       "2         5552.284757  56148.956449   684.556114    16.199330   \n",
       "\n",
       "          NumWebPurchases  NumCatalogPurchases  NumStorePurchases  \\\n",
       "clusters                                                            \n",
       "0                2.024295             0.551020           3.205053   \n",
       "1                5.249186             5.710098           8.535831   \n",
       "2                6.294807             2.715243           7.422111   \n",
       "\n",
       "          NumDealsPurchases  TotalChild  MntAccepted  Response  \n",
       "clusters                                                        \n",
       "0                  1.858115    1.200194     0.083576  0.084548  \n",
       "1                  1.245928    0.239414     0.778502  0.281759  \n",
       "2                  4.239531    1.251256     0.172529  0.123953  "
      ]
     },
     "execution_count": 22,
     "metadata": {},
     "output_type": "execute_result"
    }
   ],
   "source": [
    "df_cl.groupby('clusters').mean()"
   ]
  },
  {
   "cell_type": "markdown",
   "metadata": {},
   "source": [
    "Grupo 0:\n",
    "- É o grupo com menor renda, gastos e transações, além de não responder bem às campanhas de marketing;\n",
    "- Possue 1 filho na média;\n",
    "- Costumam comprar mais pela loja física.\n",
    "\n",
    "Grupo 1:\n",
    "- Possui a renda média e o valor gasto em compras superiores aos demais grupos, além disso, eles preferem, na média, realizar compras na loja física e tem a melhor aceitação às campanhas de marketing;\n",
    "- A tendência desse grupo é não possuir filhos.\n",
    "\n",
    "Grupo 2:\n",
    "- Em termos de renda, gastos e transações esse é o grupo intermediário. Preferem compras online e descontos, possuem uma aceitação razoável à campanhas de marketing e, na média, possuem 1 filho."
   ]
  },
  {
   "cell_type": "code",
   "execution_count": 23,
   "metadata": {},
   "outputs": [],
   "source": [
    "df_cl_all = mkt_campaing.merge(df_cl[['ID', 'clusters']], on='ID', how='left')\n",
    "df_cl_all.to_csv('ml_project1_data_clusters.csv', sep=';', index=False)"
   ]
  },
  {
   "cell_type": "markdown",
   "metadata": {},
   "source": [
    "## Classificação"
   ]
  },
  {
   "cell_type": "code",
   "execution_count": 24,
   "metadata": {},
   "outputs": [],
   "source": [
    "cols = ['Year_Birth', 'Kidhome', 'Teenhome', \n",
    "        'Dt_Customer', 'Z_CostContact', 'Z_Revenue',\n",
    "        'AcceptedCmp1', 'AcceptedCmp2', 'AcceptedCmp3',\n",
    "        'AcceptedCmp4', 'AcceptedCmp5']\n",
    "df = mkt_campaing.drop(columns=cols)"
   ]
  },
  {
   "cell_type": "code",
   "execution_count": 25,
   "metadata": {},
   "outputs": [
    {
     "data": {
      "text/html": [
       "<div>\n",
       "<style scoped>\n",
       "    .dataframe tbody tr th:only-of-type {\n",
       "        vertical-align: middle;\n",
       "    }\n",
       "\n",
       "    .dataframe tbody tr th {\n",
       "        vertical-align: top;\n",
       "    }\n",
       "\n",
       "    .dataframe thead th {\n",
       "        text-align: right;\n",
       "    }\n",
       "</style>\n",
       "<table border=\"1\" class=\"dataframe\">\n",
       "  <thead>\n",
       "    <tr style=\"text-align: right;\">\n",
       "      <th></th>\n",
       "      <th>ID</th>\n",
       "      <th>Education</th>\n",
       "      <th>Marital_Status</th>\n",
       "      <th>Income</th>\n",
       "      <th>Recency</th>\n",
       "      <th>MntWines</th>\n",
       "      <th>MntFruits</th>\n",
       "      <th>MntMeatProducts</th>\n",
       "      <th>MntFishProducts</th>\n",
       "      <th>MntSweetProducts</th>\n",
       "      <th>MntGoldProds</th>\n",
       "      <th>NumDealsPurchases</th>\n",
       "      <th>NumWebPurchases</th>\n",
       "      <th>NumCatalogPurchases</th>\n",
       "      <th>NumStorePurchases</th>\n",
       "      <th>NumWebVisitsMonth</th>\n",
       "      <th>Complain</th>\n",
       "      <th>Response</th>\n",
       "      <th>Age</th>\n",
       "      <th>DaysCustomer</th>\n",
       "      <th>TotalChild</th>\n",
       "      <th>Monetary</th>\n",
       "      <th>MntPurchase</th>\n",
       "      <th>MntAccepted</th>\n",
       "    </tr>\n",
       "  </thead>\n",
       "  <tbody>\n",
       "    <tr>\n",
       "      <th>0</th>\n",
       "      <td>5524</td>\n",
       "      <td>1</td>\n",
       "      <td>0</td>\n",
       "      <td>58138.0</td>\n",
       "      <td>58</td>\n",
       "      <td>635</td>\n",
       "      <td>88</td>\n",
       "      <td>546</td>\n",
       "      <td>172</td>\n",
       "      <td>88</td>\n",
       "      <td>88</td>\n",
       "      <td>3</td>\n",
       "      <td>8.0</td>\n",
       "      <td>10.0</td>\n",
       "      <td>4.0</td>\n",
       "      <td>7</td>\n",
       "      <td>0</td>\n",
       "      <td>1</td>\n",
       "      <td>57</td>\n",
       "      <td>760</td>\n",
       "      <td>0</td>\n",
       "      <td>1617.0</td>\n",
       "      <td>21.0</td>\n",
       "      <td>0</td>\n",
       "    </tr>\n",
       "    <tr>\n",
       "      <th>1</th>\n",
       "      <td>2174</td>\n",
       "      <td>1</td>\n",
       "      <td>0</td>\n",
       "      <td>46344.0</td>\n",
       "      <td>38</td>\n",
       "      <td>11</td>\n",
       "      <td>1</td>\n",
       "      <td>6</td>\n",
       "      <td>2</td>\n",
       "      <td>1</td>\n",
       "      <td>6</td>\n",
       "      <td>2</td>\n",
       "      <td>1.0</td>\n",
       "      <td>1.0</td>\n",
       "      <td>2.0</td>\n",
       "      <td>5</td>\n",
       "      <td>0</td>\n",
       "      <td>0</td>\n",
       "      <td>60</td>\n",
       "      <td>210</td>\n",
       "      <td>2</td>\n",
       "      <td>27.0</td>\n",
       "      <td>8.0</td>\n",
       "      <td>0</td>\n",
       "    </tr>\n",
       "    <tr>\n",
       "      <th>2</th>\n",
       "      <td>4141</td>\n",
       "      <td>1</td>\n",
       "      <td>1</td>\n",
       "      <td>71613.0</td>\n",
       "      <td>26</td>\n",
       "      <td>426</td>\n",
       "      <td>49</td>\n",
       "      <td>127</td>\n",
       "      <td>111</td>\n",
       "      <td>21</td>\n",
       "      <td>42</td>\n",
       "      <td>1</td>\n",
       "      <td>8.0</td>\n",
       "      <td>2.0</td>\n",
       "      <td>10.0</td>\n",
       "      <td>4</td>\n",
       "      <td>0</td>\n",
       "      <td>0</td>\n",
       "      <td>49</td>\n",
       "      <td>409</td>\n",
       "      <td>0</td>\n",
       "      <td>776.0</td>\n",
       "      <td>16.0</td>\n",
       "      <td>0</td>\n",
       "    </tr>\n",
       "    <tr>\n",
       "      <th>3</th>\n",
       "      <td>6182</td>\n",
       "      <td>1</td>\n",
       "      <td>1</td>\n",
       "      <td>26646.0</td>\n",
       "      <td>26</td>\n",
       "      <td>11</td>\n",
       "      <td>4</td>\n",
       "      <td>20</td>\n",
       "      <td>10</td>\n",
       "      <td>3</td>\n",
       "      <td>5</td>\n",
       "      <td>2</td>\n",
       "      <td>2.0</td>\n",
       "      <td>0.0</td>\n",
       "      <td>4.0</td>\n",
       "      <td>6</td>\n",
       "      <td>0</td>\n",
       "      <td>0</td>\n",
       "      <td>30</td>\n",
       "      <td>236</td>\n",
       "      <td>1</td>\n",
       "      <td>53.0</td>\n",
       "      <td>10.0</td>\n",
       "      <td>0</td>\n",
       "    </tr>\n",
       "    <tr>\n",
       "      <th>4</th>\n",
       "      <td>5324</td>\n",
       "      <td>4</td>\n",
       "      <td>1</td>\n",
       "      <td>58293.0</td>\n",
       "      <td>94</td>\n",
       "      <td>173</td>\n",
       "      <td>43</td>\n",
       "      <td>118</td>\n",
       "      <td>46</td>\n",
       "      <td>27</td>\n",
       "      <td>15</td>\n",
       "      <td>5</td>\n",
       "      <td>5.0</td>\n",
       "      <td>3.0</td>\n",
       "      <td>6.0</td>\n",
       "      <td>5</td>\n",
       "      <td>0</td>\n",
       "      <td>0</td>\n",
       "      <td>33</td>\n",
       "      <td>258</td>\n",
       "      <td>1</td>\n",
       "      <td>422.0</td>\n",
       "      <td>14.0</td>\n",
       "      <td>0</td>\n",
       "    </tr>\n",
       "  </tbody>\n",
       "</table>\n",
       "</div>"
      ],
      "text/plain": [
       "     ID  Education  Marital_Status   Income  Recency  MntWines  MntFruits  \\\n",
       "0  5524          1               0  58138.0       58       635         88   \n",
       "1  2174          1               0  46344.0       38        11          1   \n",
       "2  4141          1               1  71613.0       26       426         49   \n",
       "3  6182          1               1  26646.0       26        11          4   \n",
       "4  5324          4               1  58293.0       94       173         43   \n",
       "\n",
       "   MntMeatProducts  MntFishProducts  MntSweetProducts  MntGoldProds  \\\n",
       "0              546              172                88            88   \n",
       "1                6                2                 1             6   \n",
       "2              127              111                21            42   \n",
       "3               20               10                 3             5   \n",
       "4              118               46                27            15   \n",
       "\n",
       "   NumDealsPurchases  NumWebPurchases  NumCatalogPurchases  NumStorePurchases  \\\n",
       "0                  3              8.0                 10.0                4.0   \n",
       "1                  2              1.0                  1.0                2.0   \n",
       "2                  1              8.0                  2.0               10.0   \n",
       "3                  2              2.0                  0.0                4.0   \n",
       "4                  5              5.0                  3.0                6.0   \n",
       "\n",
       "   NumWebVisitsMonth  Complain  Response  Age  DaysCustomer  TotalChild  \\\n",
       "0                  7         0         1   57           760           0   \n",
       "1                  5         0         0   60           210           2   \n",
       "2                  4         0         0   49           409           0   \n",
       "3                  6         0         0   30           236           1   \n",
       "4                  5         0         0   33           258           1   \n",
       "\n",
       "   Monetary  MntPurchase  MntAccepted  \n",
       "0    1617.0         21.0            0  \n",
       "1      27.0          8.0            0  \n",
       "2     776.0         16.0            0  \n",
       "3      53.0         10.0            0  \n",
       "4     422.0         14.0            0  "
      ]
     },
     "execution_count": 25,
     "metadata": {},
     "output_type": "execute_result"
    }
   ],
   "source": [
    "df.head()"
   ]
  },
  {
   "cell_type": "markdown",
   "metadata": {},
   "source": [
    "#### Divisão estratificada"
   ]
  },
  {
   "cell_type": "markdown",
   "metadata": {},
   "source": [
    "Para que teste e treino tenha o mesmo balanceamento na variável resposta."
   ]
  },
  {
   "cell_type": "code",
   "execution_count": 26,
   "metadata": {},
   "outputs": [],
   "source": [
    "X = df.drop(columns=['Response', 'ID'])\n",
    "y = df['Response']\n",
    "\n",
    "X_train, X_test, y_train, y_test = train_test_split(X, y, stratify=y, test_size = 0.33, random_state = 42)"
   ]
  },
  {
   "cell_type": "markdown",
   "metadata": {},
   "source": [
    "#### Normalização"
   ]
  },
  {
   "cell_type": "code",
   "execution_count": 27,
   "metadata": {},
   "outputs": [],
   "source": [
    "scaler = StandardScaler()\n",
    "X_train = scaler.fit_transform(X_train)\n",
    "X_test = scaler.fit_transform(X_test)"
   ]
  },
  {
   "cell_type": "markdown",
   "metadata": {},
   "source": [
    "#### Baseline"
   ]
  },
  {
   "cell_type": "markdown",
   "metadata": {},
   "source": [
    "Vamos utilizar a RandomForest como modelo base para verificar se os tratamentos seguintes que serão realizados nos dados, e outros modelos, estão performando melhor"
   ]
  },
  {
   "cell_type": "code",
   "execution_count": 28,
   "metadata": {},
   "outputs": [
    {
     "name": "stdout",
     "output_type": "stream",
     "text": [
      "Recall scores: [0.4516129  0.38095238 0.29032258 0.40677966 0.47058824]\n",
      "Media do Recall: 0.40005115222688314\n"
     ]
    }
   ],
   "source": [
    "crossv = StratifiedKFold(shuffle=False)\n",
    "model = RandomForestClassifier(random_state=42)\n",
    "\n",
    "score = cross_val_score(model, X_train, y_train, cv=crossv, scoring='f1')\n",
    "print(\"Recall scores: {}\".format(score))\n",
    "print(\"Media do Recall: {}\".format(score.mean()))"
   ]
  },
  {
   "cell_type": "markdown",
   "metadata": {},
   "source": [
    "Estamos utlizando validação cruzada com o método de estratificação porque nossa base de dados é pequena e desbalanceada,e considerando esse caso esse método permite que avaliemos melhor a performance do modelo. Como queremos identificar o maior número possível de clientes que atendam as campanhas de marketing, vamos utilizar o recall como principal método de avaliação para evitar falsos negativos."
   ]
  },
  {
   "cell_type": "code",
   "execution_count": 29,
   "metadata": {},
   "outputs": [
    {
     "name": "stdout",
     "output_type": "stream",
     "text": [
      "Acurácia:  0.895946\n",
      "Precision:  0.866667\n",
      "Recall:  0.354545\n",
      "F1:  0.503226\n",
      "[[624   6]\n",
      " [ 71  39]]\n"
     ]
    }
   ],
   "source": [
    "model = model.fit(X_train, y_train)\n",
    "y_pred = model.predict(X_test)\n",
    "get_scores(y_test, y_pred)\n",
    "print(confusion_matrix(y_test, y_pred))"
   ]
  },
  {
   "cell_type": "code",
   "execution_count": 30,
   "metadata": {},
   "outputs": [
    {
     "data": {
      "text/plain": [
       "<AxesSubplot:ylabel='cols'>"
      ]
     },
     "execution_count": 30,
     "metadata": {},
     "output_type": "execute_result"
    },
    {
     "data": {
      "image/png": "[encoded data removed]",
      "text/plain": [
       "<Figure size 432x288 with 1 Axes>"
      ]
     },
     "metadata": {},
     "output_type": "display_data"
    }
   ],
   "source": [
    "fi = pd.DataFrame(zip(X.columns, model.feature_importances_),\n",
    "                  columns=['cols', 'importance']).set_index('cols')\n",
    "fi = fi.sort_values(by='importance')\n",
    "fi.plot(kind='barh')"
   ]
  },
  {
   "cell_type": "markdown",
   "metadata": {},
   "source": [
    "Vamos remover as colunas Complain, por causa não possuir relevância nessa previsão e MntPurchase pra evitar multicolinearidade com as colunas Mnt..."
   ]
  },
  {
   "cell_type": "code",
   "execution_count": 31,
   "metadata": {},
   "outputs": [],
   "source": [
    "X = df.drop(columns=['ID', 'Response', 'Complain', 'MntPurchase'])\n",
    "y = df['Response']\n",
    "\n",
    "X_train, X_test, y_train, y_test = train_test_split(X, y, stratify=y, test_size = 0.33, random_state = 42)\n",
    "\n",
    "scaler = StandardScaler(with_mean=True, with_std=True)\n",
    "X_train = scaler.fit_transform(X_train)\n",
    "X_test = scaler.fit_transform(X_test)"
   ]
  },
  {
   "cell_type": "markdown",
   "metadata": {},
   "source": [
    "#### Random Forest com Oversampling"
   ]
  },
  {
   "cell_type": "code",
   "execution_count": 32,
   "metadata": {},
   "outputs": [],
   "source": [
    "params = {\n",
    "    'n_estimators': [100, 300, 500],\n",
    "    'max_depth': [4, 8, 12, 16],\n",
    "    'random_state': [42]\n",
    "}"
   ]
  },
  {
   "cell_type": "code",
   "execution_count": 33,
   "metadata": {},
   "outputs": [
    {
     "name": "stdout",
     "output_type": "stream",
     "text": [
      "({'randomforestclassifier__max_depth': 4, 'randomforestclassifier__n_estimators': 100, 'randomforestclassifier__random_state': 42}, 0.7098989898989899)\n",
      "Recall scores: [0.72727273 0.57777778 0.73333333 0.77777778 0.68888889]\n",
      "Media do Recall: 0.7010101010101011\n"
     ]
    }
   ],
   "source": [
    "ros = RandomOverSampler(random_state=42)\n",
    "random_overs_pipeline = make_pipeline(RandomOverSampler(random_state=42), \n",
    "                                      RandomForestClassifier(random_state=13))\n",
    "\n",
    "new_params = {'randomforestclassifier__' + key: params[key] for key in params}\n",
    "grid_over_rf = GridSearchCV(random_overs_pipeline, param_grid=new_params, cv=crossv, \n",
    "                            scoring='recall',\n",
    "                            return_train_score=True)\n",
    "grid_over_rf.fit(X_train, y_train)\n",
    "print((grid_over_rf.best_params_,  grid_over_rf.best_score_))\n",
    "\n",
    "score = cross_val_score(grid_over_rf, X_train, y_train, scoring='recall', cv=crossv)\n",
    "print(\"Recall scores: {}\".format(score))\n",
    "print(\"Media do Recall: {}\".format(score.mean()))"
   ]
  },
  {
   "cell_type": "code",
   "execution_count": 34,
   "metadata": {},
   "outputs": [
    {
     "name": "stdout",
     "output_type": "stream",
     "text": [
      "Acurácia:  0.818919\n",
      "Precision:  0.434783\n",
      "Recall:  0.727273\n",
      "F1:  0.544218\n"
     ]
    }
   ],
   "source": [
    "y_pred = grid_over_rf.best_estimator_.named_steps['randomforestclassifier'].predict(X_test)\n",
    "get_scores(y_test, y_pred)"
   ]
  },
  {
   "cell_type": "markdown",
   "metadata": {},
   "source": [
    "#### Random Forest com Pesos"
   ]
  },
  {
   "cell_type": "code",
   "execution_count": 35,
   "metadata": {},
   "outputs": [
    {
     "name": "stdout",
     "output_type": "stream",
     "text": [
      "Resultado Grid:  {'max_depth': 4, 'n_estimators': 500, 'random_state': 42} 0.6742424242424243\n",
      "\n",
      "Recall scores: [0.63636364 0.6        0.68888889 0.73333333 0.62222222]\n",
      "Media do Recall: 0.6561616161616162\n"
     ]
    }
   ],
   "source": [
    "model = RandomForestClassifier(random_state=42, class_weight='balanced')\n",
    "grid_rfw = GridSearchCV(model, param_grid=params, cv=crossv, \n",
    "                               scoring='recall').fit(X_train, y_train)\n",
    "print('Resultado Grid: ', grid_rfw.best_params_,  grid_rfw.best_score_)\n",
    "\n",
    "score = cross_val_score(grid_rfw, X_train, y_train, cv=crossv, scoring='recall')\n",
    "print(\"\\nRecall scores: {}\".format(score))\n",
    "print(\"Media do Recall: {}\".format(score.mean()))"
   ]
  },
  {
   "cell_type": "code",
   "execution_count": 36,
   "metadata": {},
   "outputs": [
    {
     "name": "stdout",
     "output_type": "stream",
     "text": [
      "Acurácia:  0.829730\n",
      "Precision:  0.450000\n",
      "Recall:  0.654545\n",
      "F1:  0.533333\n",
      "\n",
      " [[542  88]\n",
      " [ 38  72]]\n"
     ]
    }
   ],
   "source": [
    "y_pred = grid_rfw.predict(X_test)\n",
    "\n",
    "get_scores(y_test, y_pred)\n",
    "print('\\n', confusion_matrix(y_test, y_pred))"
   ]
  },
  {
   "cell_type": "markdown",
   "metadata": {},
   "source": [
    "#### Regressão Logística"
   ]
  },
  {
   "cell_type": "code",
   "execution_count": 37,
   "metadata": {},
   "outputs": [],
   "source": [
    "params = {\n",
    "    'solver': ['lbfgs', 'liblinear'],\n",
    "    'C': [0.001, 0.01, 0.1, 1, 10, 100, 1000]\n",
    "}"
   ]
  },
  {
   "cell_type": "code",
   "execution_count": 38,
   "metadata": {},
   "outputs": [
    {
     "name": "stdout",
     "output_type": "stream",
     "text": [
      "Resultado Grid:  {'C': 10, 'solver': 'lbfgs'} 0.5705241773221491\n",
      "Recall scores: [0.79545455 0.71111111 0.77777778 0.84444444 0.86666667]\n",
      "Media do Recall: 0.7990909090909091\n"
     ]
    }
   ],
   "source": [
    "model = LogisticRegression(random_state=42, class_weight='balanced', max_iter=500)\n",
    "grid_rl = GridSearchCV(model, param_grid=params, cv=crossv, \n",
    "                       scoring='f1').fit(X_train, y_train)\n",
    "print('Resultado Grid: ', grid_rl.best_params_,  grid_rl.best_score_)\n",
    "\n",
    "score = cross_val_score(grid_rl, X_train, y_train, cv=crossv, scoring='recall')\n",
    "print(\"Recall scores: {}\".format(score))\n",
    "print(\"Media do Recall: {}\".format(score.mean()))"
   ]
  },
  {
   "cell_type": "code",
   "execution_count": 39,
   "metadata": {},
   "outputs": [
    {
     "name": "stdout",
     "output_type": "stream",
     "text": [
      "Acurácia:  0.836486\n",
      "Precision:  0.468927\n",
      "Recall:  0.754545\n",
      "F1:  0.578397\n",
      "\n",
      " [[536  94]\n",
      " [ 27  83]]\n"
     ]
    }
   ],
   "source": [
    "y_pred = grid_rl.predict(X_test)\n",
    "\n",
    "get_scores(y_test, y_pred)\n",
    "print('\\n', confusion_matrix(y_test, y_pred))"
   ]
  },
  {
   "cell_type": "code",
   "execution_count": 40,
   "metadata": {},
   "outputs": [
    {
     "data": {
      "text/plain": [
       "(0.0, 1.0)"
      ]
     },
     "execution_count": 40,
     "metadata": {},
     "output_type": "execute_result"
    },
    {
     "data": {
      "image/png": "[encoded data removed]",
      "text/plain": [
       "<Figure size 432x288 with 1 Axes>"
      ]
     },
     "metadata": {},
     "output_type": "display_data"
    }
   ],
   "source": [
    "y_pred_prob = grid_rl.predict_proba(X_test)\n",
    "precision, recall, threshold = precision_recall_curve(y_test, y_pred_prob[:,1])\n",
    "\n",
    "plt.plot(threshold, precision[:-1], 'b--', label='Precision')\n",
    "plt.plot(threshold, recall[:-1], 'r--', label='Recall')\n",
    "plt.xlabel('Threshold')\n",
    "plt.legend(loc='lower left')\n",
    "plt.ylim([0,1])"
   ]
  },
  {
   "cell_type": "markdown",
   "metadata": {},
   "source": [
    "O ponto no qual precision e recall seriam mais parecidos seria por volta 0,70. Mas, queremos o recall mais alto. Vamos apenas verificar o resultado quase o threshold fosse um pouco maior."
   ]
  },
  {
   "cell_type": "code",
   "execution_count": 41,
   "metadata": {},
   "outputs": [],
   "source": [
    "THRESHOLD = 0.57\n",
    "y_pred_threshold = np.where(y_pred_prob[:, 1] > THRESHOLD, 1, 0 )"
   ]
  },
  {
   "cell_type": "code",
   "execution_count": 42,
   "metadata": {},
   "outputs": [
    {
     "name": "stdout",
     "output_type": "stream",
     "text": [
      "Acurácia:  0.858108\n",
      "Precision:  0.516556\n",
      "Recall:  0.709091\n",
      "F1:  0.597701\n",
      "[[557  73]\n",
      " [ 32  78]]\n"
     ]
    }
   ],
   "source": [
    "get_scores(y_test, y_pred_threshold)\n",
    "print(confusion_matrix(y_test, y_pred_threshold))"
   ]
  },
  {
   "cell_type": "markdown",
   "metadata": {},
   "source": [
    "Em troca de 5% de acerto no recall, ganharíamos 5% no precision, nesse conjunto de teste."
   ]
  },
  {
   "cell_type": "code",
   "execution_count": 43,
   "metadata": {},
   "outputs": [
    {
     "data": {
      "text/plain": [
       "<AxesSubplot:ylabel='Feature'>"
      ]
     },
     "execution_count": 43,
     "metadata": {},
     "output_type": "execute_result"
    },
    {
     "data": {
      "image/png": "[encoded data removed]",
      "text/plain": [
       "<Figure size 720x432 with 1 Axes>"
      ]
     },
     "metadata": {},
     "output_type": "display_data"
    }
   ],
   "source": [
    "coefficients = grid_rl.best_estimator_.coef_[0]\n",
    "\n",
    "feature_importance = pd.DataFrame({'Feature': X.columns, 'Importance': np.abs(coefficients)})\n",
    "feature_importance = feature_importance.sort_values('Importance', ascending=True)\n",
    "feature_importance.plot(x='Feature', y='Importance', kind='barh', figsize=(10, 6))"
   ]
  },
  {
   "cell_type": "markdown",
   "metadata": {},
   "source": [
    "Dentre as alternativas validadas, a regressão logistica foi a que apresentou o melhor resultado."
   ]
  },
  {
   "cell_type": "markdown",
   "metadata": {},
   "source": [
    "#### Regressão Logística com MinMax Scaler"
   ]
  },
  {
   "cell_type": "markdown",
   "metadata": {},
   "source": [
    "Vamos tentar aprimorar os resultado da regressão logística"
   ]
  },
  {
   "cell_type": "code",
   "execution_count": 44,
   "metadata": {},
   "outputs": [],
   "source": [
    "cols = ['Year_Birth', 'Kidhome', 'Teenhome', \n",
    "        'Dt_Customer', 'Z_CostContact', 'Z_Revenue',\n",
    "        'AcceptedCmp1', 'AcceptedCmp2', 'AcceptedCmp3',\n",
    "        'AcceptedCmp4', 'AcceptedCmp5']\n",
    "df = mkt_campaing.drop(columns=cols)"
   ]
  },
  {
   "cell_type": "code",
   "execution_count": 45,
   "metadata": {},
   "outputs": [],
   "source": [
    "X = df.drop(columns=['Response', 'ID'])\n",
    "y = df['Response']\n",
    "\n",
    "X_train, X_test, y_train, y_test = train_test_split(X, y, stratify=y, test_size = 0.33, random_state = 42)"
   ]
  },
  {
   "cell_type": "code",
   "execution_count": 46,
   "metadata": {},
   "outputs": [],
   "source": [
    "scaler = MinMaxScaler()\n",
    "X_train = scaler.fit_transform(X_train)\n",
    "X_test = scaler.fit_transform(X_test)"
   ]
  },
  {
   "cell_type": "code",
   "execution_count": 47,
   "metadata": {},
   "outputs": [
    {
     "name": "stdout",
     "output_type": "stream",
     "text": [
      "Acurácia:  0.858108\n",
      "Precision:  0.516779\n",
      "Recall:  0.700000\n",
      "F1:  0.594595\n",
      "\n",
      " [[558  72]\n",
      " [ 33  77]]\n"
     ]
    }
   ],
   "source": [
    "model = LogisticRegression(C=10, max_iter=1000, class_weight='balanced', random_state=42)\n",
    "model.fit(X_train, y_train)\n",
    "y_pred = model.predict(X_test)\n",
    "\n",
    "get_scores(y_test, y_pred)\n",
    "print('\\n', confusion_matrix(y_test, y_pred))"
   ]
  },
  {
   "cell_type": "code",
   "execution_count": 48,
   "metadata": {},
   "outputs": [],
   "source": [
    "dc = {\n",
    "    'Acurácia': 0.858108,\n",
    "    'Precision': 0.516779,\n",
    "    'Recall': 0.7,\n",
    "    'F1': 0.594595\n",
    "}\n",
    "\n",
    "dc = pd.DataFrame(dc, index=['values'])\n",
    "dc = dc.T.reset_index(names='metrics')"
   ]
  },
  {
   "cell_type": "code",
   "execution_count": 49,
   "metadata": {},
   "outputs": [
    {
     "data": {
      "text/plain": [
       "<AxesSubplot:xlabel='metrics'>"
      ]
     },
     "execution_count": 49,
     "metadata": {},
     "output_type": "execute_result"
    },
    {
     "data": {
      "image/png": "[encoded data removed]",
      "text/plain": [
       "<Figure size 432x288 with 1 Axes>"
      ]
     },
     "metadata": {},
     "output_type": "display_data"
    }
   ],
   "source": [
    "dc.plot(x='metrics', y='values', kind='bar')"
   ]
  },
  {
   "cell_type": "code",
   "execution_count": 50,
   "metadata": {},
   "outputs": [
    {
     "data": {
      "text/plain": [
       "(0.0, 1.0)"
      ]
     },
     "execution_count": 50,
     "metadata": {},
     "output_type": "execute_result"
    },
    {
     "data": {
      "image/png": "[encoded data removed]",
      "text/plain": [
       "<Figure size 432x288 with 1 Axes>"
      ]
     },
     "metadata": {},
     "output_type": "display_data"
    }
   ],
   "source": [
    "y_pred_prob = model.predict_proba(X_test)\n",
    "precision, recall, threshold = precision_recall_curve(y_test, y_pred_prob[:,1])\n",
    "\n",
    "plt.title('Recall x Precision')\n",
    "plt.plot(threshold, precision[:-1], 'b--', label='Precision')\n",
    "plt.plot(threshold, recall[:-1], 'r--', label='Recall')\n",
    "plt.xlabel('Threshold')\n",
    "plt.legend(loc='lower left')\n",
    "plt.ylim([0,1])"
   ]
  },
  {
   "cell_type": "code",
   "execution_count": 52,
   "metadata": {},
   "outputs": [
    {
     "name": "stdout",
     "output_type": "stream",
     "text": [
      "              precision    recall  f1-score   support\n",
      "\n",
      "           0       0.94      0.89      0.91       630\n",
      "           1       0.52      0.70      0.59       110\n",
      "\n",
      "    accuracy                           0.86       740\n",
      "   macro avg       0.73      0.79      0.75       740\n",
      "weighted avg       0.88      0.86      0.87       740\n",
      "\n"
     ]
    }
   ],
   "source": [
    "print(classification_report(y_test, y_pred))"
   ]
  },
  {
   "cell_type": "code",
   "execution_count": 53,
   "metadata": {},
   "outputs": [],
   "source": [
    "pickle.dump(model, open('rl_mkt_model.sav', 'wb'))"
   ]
  },
  {
   "cell_type": "markdown",
   "metadata": {},
   "source": [
    "#### Conclusão"
   ]
  },
  {
   "cell_type": "markdown",
   "metadata": {},
   "source": [
    "Vamos utilizar a Regressão Logística aplicando pesos na variável alvo positiva, com o parâmetro C=10 conforme definido pelo hypertuning "
   ]
  },
  {
   "cell_type": "code",
   "execution_count": 54,
   "metadata": {},
   "outputs": [
    {
     "name": "stdout",
     "output_type": "stream",
     "text": [
      "              precision    recall  f1-score   support\n",
      "\n",
      "           0       0.94      0.89      0.91       630\n",
      "           1       0.52      0.70      0.59       110\n",
      "\n",
      "    accuracy                           0.86       740\n",
      "   macro avg       0.73      0.79      0.75       740\n",
      "weighted avg       0.88      0.86      0.87       740\n",
      "\n"
     ]
    }
   ],
   "source": [
    "print(classification_report(y_test, y_pred))"
   ]
  }
 ],
 "metadata": {
  "kernelspec": {
   "display_name": "base",
   "language": "python",
   "name": "python3"
  },
  "language_info": {
   "codemirror_mode": {
    "name": "ipython",
    "version": 3
   },
   "file_extension": ".py",
   "mimetype": "text/x-python",
   "name": "python",
   "nbconvert_exporter": "python",
   "pygments_lexer": "ipython3",
   "version": "3.9.12"
  }
 },
 "nbformat": 4,
 "nbformat_minor": 2
}
